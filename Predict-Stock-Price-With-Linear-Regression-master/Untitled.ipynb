{
 "cells": [
  {
   "cell_type": "markdown",
   "id": "957f7444-e44d-4b0b-9823-d5b1759818ed",
   "metadata": {},
   "source": [
    "Import các thư viện hỗ trợ"
   ]
  },
  {
   "cell_type": "code",
   "execution_count": null,
   "id": "e4f2e885-e9c5-41e7-a7ed-5315cab22306",
   "metadata": {},
   "outputs": [],
   "source": [
    "from sklearn.model_selection import train_test_split\n",
    "from sklearn.linear_model import LinearRegression\n",
    "import pandas as pd\n",
    "import numpy as np\n",
    "import matplotlib.pyplot as plt\n",
    "import pickle\n",
    "import os\n"
   ]
  },
  {
   "cell_type": "markdown",
   "id": "7f9db968-14e1-47d7-ba97-a2b860262228",
   "metadata": {},
   "source": [
    "Tạo hộp thoại đọc file"
   ]
  },
  {
   "cell_type": "code",
   "execution_count": null,
   "id": "fea962e2-bcbe-468f-a2d3-6d95ac89e43d",
   "metadata": {},
   "outputs": [],
   "source": [
    "df = pd.read_csv('D:\\TCS.csv')   \n"
   ]
  },
  {
   "cell_type": "markdown",
   "id": "7011c46d-a6f0-4817-a079-96651d47f3df",
   "metadata": {},
   "source": [
    "Tạo danh sách ngày ( trục hoành của biểu đồ )"
   ]
  },
  {
   "cell_type": "code",
   "execution_count": null,
   "id": "07fe6237-7bf0-4748-9e4d-df0ab943e61c",
   "metadata": {},
   "outputs": [],
   "source": [
    "dates = list(range(0,int(len(df))))                                             \n",
    "prices = df['Close']\n"
   ]
  },
  {
   "cell_type": "markdown",
   "id": "a2cdb533-85de-4553-bf42-b5f946599386",
   "metadata": {},
   "source": [
    "Xoá các dữ liệu NaN"
   ]
  },
  {
   "cell_type": "code",
   "execution_count": null,
   "id": "be5dc4cd-45e5-461e-a4fe-f25a86bbc016",
   "metadata": {},
   "outputs": [],
   "source": [
    "prices[np.isnan(prices)] = np.median(prices[~np.isnan(prices)])    \n"
   ]
  },
  {
   "cell_type": "markdown",
   "id": "32dc27d2-327f-4224-b8c4-08e6fc1c35f1",
   "metadata": {},
   "source": [
    "Thống kê dữ liệu thực tế"
   ]
  },
  {
   "cell_type": "code",
   "execution_count": null,
   "id": "45cd03ff-167a-4d3d-8942-f7b74804fc69",
   "metadata": {},
   "outputs": [],
   "source": [
    "plt.plot(df['Close'], label='Close Price history')\n",
    "plt.title('Linear Regression | Time vs. Price (Original Data)')\n",
    "plt.legend()\n",
    "plt.xlabel('Date Integer')\n",
    "plt.show()\n"
   ]
  },
  {
   "cell_type": "markdown",
   "id": "3078931c-d5ac-44de-a536-0c8899022be1",
   "metadata": {},
   "source": [
    "Chuyển số liệu thành ma trận"
   ]
  },
  {
   "cell_type": "code",
   "execution_count": null,
   "id": "41718951-07f5-4b36-ad12-875592bbdef5",
   "metadata": {},
   "outputs": [],
   "source": [
    "dates = np.asanyarray(dates)\n",
    "prices = np.asanyarray(prices)\n",
    "dates = np.reshape(dates,(len(dates),1))\n",
    "prices = np.reshape(prices, (len(prices), 1))\n"
   ]
  },
  {
   "cell_type": "markdown",
   "id": "fa58cde3-9dc4-4784-9c3a-229a2a6510f9",
   "metadata": {},
   "source": [
    "Lấy độ chính xác của mô hình trước"
   ]
  },
  {
   "cell_type": "code",
   "execution_count": null,
   "id": "160465de-6c74-478a-8d5b-36c51b18aa01",
   "metadata": {},
   "outputs": [],
   "source": [
    "try:\n",
    "  pickle_in = open(\"prediction.pickle\", \"rb\")\n",
    "  reg = pickle.load(pickle_in)\n",
    "  xtrain, xtest, ytrain, ytest = train_test_split(dates, prices, test_size=0.2)\n",
    "  best = reg.score(ytrain, ytest)\n",
    "except:\n",
    "  pass"
   ]
  },
  {
   "cell_type": "markdown",
   "id": "54c6a329-c9fb-42c2-9948-c79494715dcf",
   "metadata": {},
   "source": [
    "Chọn mô hình chuẩn xác nhất và Lưu độ chính xác của mô hình"
   ]
  },
  {
   "cell_type": "code",
   "execution_count": null,
   "id": "c7c365a0-eff3-4fa9-9482-67008fc4acc3",
   "metadata": {},
   "outputs": [],
   "source": [
    "best = 0\n",
    "for _ in range(100):\n",
    "    xtrain, xtest, ytrain, ytest = train_test_split(dates, prices, test_size=0.2)\n",
    "    reg = LinearRegression().fit(xtrain, ytrain)\n",
    "    acc = reg.score(xtest, ytest)\n",
    "    if acc > best:\n",
    "        best = acc\n",
    "        #\n",
    "        with open('prediction.pickle','wb') as f:\n",
    "            pickle.dump(reg, f)\n",
    "        print(acc)\n",
    "        "
   ]
  },
  {
   "cell_type": "markdown",
   "id": "231ab027-3b22-48ab-a307-a0478876edf0",
   "metadata": {},
   "source": [
    "Đọc dữ liệu mô hình đã được lưu"
   ]
  },
  {
   "cell_type": "code",
   "execution_count": null,
   "id": "a6f2b822-4c49-4ffb-b81f-8b1c6911852e",
   "metadata": {},
   "outputs": [],
   "source": [
    "pickle_in = open(\"prediction.pickle\", \"rb\")\n",
    "reg = pickle.load(pickle_in)\n"
   ]
  },
  {
   "cell_type": "markdown",
   "id": "104ab90e-f559-41fa-b94a-672a6785c3e6",
   "metadata": {},
   "source": [
    "Xuất mô hình dự đoán"
   ]
  },
  {
   "cell_type": "code",
   "execution_count": null,
   "id": "aaf1a50c-11ce-4bfb-bfbc-72fdd975a3bb",
   "metadata": {},
   "outputs": [],
   "source": [
    "plt.plot(xtest, ytest, color='green',linewidth=1, label= 'Actual Price')                        \n",
    "plt.plot(xtest, reg.predict(xtest), color='blue', linewidth=3, label = 'Predicted Price')       \n",
    "plt.title('Linear Regression | Time vs. Price ')\n",
    "plt.legend()\n",
    "plt.xlabel('Date Integer')\n",
    "plt.show()\n"
   ]
  },
  {
   "cell_type": "markdown",
   "id": "1c01a63e-e5d5-4ff2-a2d5-6e23ec1db742",
   "metadata": {},
   "source": [
    "Đánh giá độ chính xác của mô hình"
   ]
  },
  {
   "cell_type": "code",
   "execution_count": null,
   "id": "e0af0170-a300-415f-836b-ab74ae6ceac7",
   "metadata": {},
   "outputs": [],
   "source": [
    "from sklearn.metrics import r2_score\n",
    "print(\"Giá trị R: \", r2_score(ytest, reg.predict(xtest)))"
   ]
  }
 ],
 "metadata": {
  "kernelspec": {
   "display_name": "Python 3",
   "language": "python",
   "name": "python3"
  },
  "language_info": {
   "codemirror_mode": {
    "name": "ipython",
    "version": 3
   },
   "file_extension": ".py",
   "mimetype": "text/x-python",
   "name": "python",
   "nbconvert_exporter": "python",
   "pygments_lexer": "ipython3",
   "version": "3.6.4"
  }
 },
 "nbformat": 4,
 "nbformat_minor": 5
}
