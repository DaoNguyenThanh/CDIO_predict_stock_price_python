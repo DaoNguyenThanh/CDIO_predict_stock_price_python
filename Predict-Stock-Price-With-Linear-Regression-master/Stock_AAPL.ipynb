{
 "cells": [
  {
   "cell_type": "code",
   "execution_count": 11,
   "id": "9f19fe23",
   "metadata": {},
   "outputs": [],
   "source": [
    "from sklearn.model_selection import train_test_split\n",
    "from sklearn.linear_model import LinearRegression\n",
    "import pandas as pd\n",
    "import numpy as np\n",
    "import matplotlib.pyplot as plt\n",
    "import pickle #thư viện lưu các đối tượng giữa các quy trình\n",
    "import os"
   ]
  },
  {
   "cell_type": "code",
   "execution_count": 31,
   "id": "7b9eb595",
   "metadata": {},
   "outputs": [
    {
     "data": {
      "text/html": [
       "<div>\n",
       "<style scoped>\n",
       "    .dataframe tbody tr th:only-of-type {\n",
       "        vertical-align: middle;\n",
       "    }\n",
       "\n",
       "    .dataframe tbody tr th {\n",
       "        vertical-align: top;\n",
       "    }\n",
       "\n",
       "    .dataframe thead th {\n",
       "        text-align: right;\n",
       "    }\n",
       "</style>\n",
       "<table border=\"1\" class=\"dataframe\">\n",
       "  <thead>\n",
       "    <tr style=\"text-align: right;\">\n",
       "      <th></th>\n",
       "      <th>Open</th>\n",
       "      <th>High</th>\n",
       "      <th>Low</th>\n",
       "      <th>Close</th>\n",
       "      <th>Adj Close</th>\n",
       "      <th>Volume</th>\n",
       "    </tr>\n",
       "    <tr>\n",
       "      <th>Date</th>\n",
       "      <th></th>\n",
       "      <th></th>\n",
       "      <th></th>\n",
       "      <th></th>\n",
       "      <th></th>\n",
       "      <th></th>\n",
       "    </tr>\n",
       "  </thead>\n",
       "  <tbody>\n",
       "    <tr>\n",
       "      <th>2005-01-10</th>\n",
       "      <td>1.246964</td>\n",
       "      <td>1.262500</td>\n",
       "      <td>1.212143</td>\n",
       "      <td>1.231429</td>\n",
       "      <td>1.057325</td>\n",
       "      <td>1725309600</td>\n",
       "    </tr>\n",
       "    <tr>\n",
       "      <th>2005-01-11</th>\n",
       "      <td>1.218750</td>\n",
       "      <td>1.234821</td>\n",
       "      <td>1.145357</td>\n",
       "      <td>1.152857</td>\n",
       "      <td>0.989862</td>\n",
       "      <td>2611627200</td>\n",
       "    </tr>\n",
       "    <tr>\n",
       "      <th>2005-01-12</th>\n",
       "      <td>1.168750</td>\n",
       "      <td>1.176786</td>\n",
       "      <td>1.130357</td>\n",
       "      <td>1.168929</td>\n",
       "      <td>1.003662</td>\n",
       "      <td>1919702400</td>\n",
       "    </tr>\n",
       "    <tr>\n",
       "      <th>2005-01-13</th>\n",
       "      <td>1.316250</td>\n",
       "      <td>1.328929</td>\n",
       "      <td>1.245179</td>\n",
       "      <td>1.246429</td>\n",
       "      <td>1.070204</td>\n",
       "      <td>3164716800</td>\n",
       "    </tr>\n",
       "    <tr>\n",
       "      <th>2005-01-14</th>\n",
       "      <td>1.254464</td>\n",
       "      <td>1.280714</td>\n",
       "      <td>1.235536</td>\n",
       "      <td>1.253571</td>\n",
       "      <td>1.076337</td>\n",
       "      <td>1770742400</td>\n",
       "    </tr>\n",
       "  </tbody>\n",
       "</table>\n",
       "</div>"
      ],
      "text/plain": [
       "                Open      High       Low     Close  Adj Close      Volume\n",
       "Date                                                                     \n",
       "2005-01-10  1.246964  1.262500  1.212143  1.231429   1.057325  1725309600\n",
       "2005-01-11  1.218750  1.234821  1.145357  1.152857   0.989862  2611627200\n",
       "2005-01-12  1.168750  1.176786  1.130357  1.168929   1.003662  1919702400\n",
       "2005-01-13  1.316250  1.328929  1.245179  1.246429   1.070204  3164716800\n",
       "2005-01-14  1.254464  1.280714  1.235536  1.253571   1.076337  1770742400"
      ]
     },
     "execution_count": 31,
     "metadata": {},
     "output_type": "execute_result"
    }
   ],
   "source": [
    "df = pd.read_csv('AAPL-2005-2020.csv', index_col = 0)\n",
    "df.head()"
   ]
  },
  {
   "cell_type": "code",
   "execution_count": 33,
   "id": "3f6022e9",
   "metadata": {},
   "outputs": [
    {
     "data": {
      "text/html": [
       "<div>\n",
       "<style scoped>\n",
       "    .dataframe tbody tr th:only-of-type {\n",
       "        vertical-align: middle;\n",
       "    }\n",
       "\n",
       "    .dataframe tbody tr th {\n",
       "        vertical-align: top;\n",
       "    }\n",
       "\n",
       "    .dataframe thead th {\n",
       "        text-align: right;\n",
       "    }\n",
       "</style>\n",
       "<table border=\"1\" class=\"dataframe\">\n",
       "  <thead>\n",
       "    <tr style=\"text-align: right;\">\n",
       "      <th></th>\n",
       "      <th>Open</th>\n",
       "      <th>High</th>\n",
       "      <th>Low</th>\n",
       "      <th>Close</th>\n",
       "      <th>Adj Close</th>\n",
       "      <th>Volume</th>\n",
       "    </tr>\n",
       "  </thead>\n",
       "  <tbody>\n",
       "    <tr>\n",
       "      <th>count</th>\n",
       "      <td>3774.000000</td>\n",
       "      <td>3774.000000</td>\n",
       "      <td>3774.000000</td>\n",
       "      <td>3774.000000</td>\n",
       "      <td>3774.000000</td>\n",
       "      <td>3.774000e+03</td>\n",
       "    </tr>\n",
       "    <tr>\n",
       "      <th>mean</th>\n",
       "      <td>19.738805</td>\n",
       "      <td>19.922022</td>\n",
       "      <td>19.550067</td>\n",
       "      <td>19.742796</td>\n",
       "      <td>18.285583</td>\n",
       "      <td>4.830986e+08</td>\n",
       "    </tr>\n",
       "    <tr>\n",
       "      <th>std</th>\n",
       "      <td>16.135081</td>\n",
       "      <td>16.270788</td>\n",
       "      <td>16.014384</td>\n",
       "      <td>16.152156</td>\n",
       "      <td>15.806546</td>\n",
       "      <td>4.105372e+08</td>\n",
       "    </tr>\n",
       "    <tr>\n",
       "      <th>min</th>\n",
       "      <td>1.168750</td>\n",
       "      <td>1.176786</td>\n",
       "      <td>1.130357</td>\n",
       "      <td>1.152857</td>\n",
       "      <td>0.989862</td>\n",
       "      <td>4.544800e+07</td>\n",
       "    </tr>\n",
       "    <tr>\n",
       "      <th>25%</th>\n",
       "      <td>5.288928</td>\n",
       "      <td>5.407322</td>\n",
       "      <td>5.217857</td>\n",
       "      <td>5.324554</td>\n",
       "      <td>4.571749</td>\n",
       "      <td>1.628507e+08</td>\n",
       "    </tr>\n",
       "    <tr>\n",
       "      <th>50%</th>\n",
       "      <td>16.279465</td>\n",
       "      <td>16.379106</td>\n",
       "      <td>16.077679</td>\n",
       "      <td>16.231071</td>\n",
       "      <td>14.137815</td>\n",
       "      <td>3.809400e+08</td>\n",
       "    </tr>\n",
       "    <tr>\n",
       "      <th>75%</th>\n",
       "      <td>29.053125</td>\n",
       "      <td>29.233126</td>\n",
       "      <td>28.796250</td>\n",
       "      <td>29.001874</td>\n",
       "      <td>26.850676</td>\n",
       "      <td>6.733118e+08</td>\n",
       "    </tr>\n",
       "    <tr>\n",
       "      <th>max</th>\n",
       "      <td>74.959999</td>\n",
       "      <td>75.224998</td>\n",
       "      <td>74.370003</td>\n",
       "      <td>75.087502</td>\n",
       "      <td>74.096443</td>\n",
       "      <td>3.372970e+09</td>\n",
       "    </tr>\n",
       "  </tbody>\n",
       "</table>\n",
       "</div>"
      ],
      "text/plain": [
       "              Open         High          Low        Close    Adj Close  \\\n",
       "count  3774.000000  3774.000000  3774.000000  3774.000000  3774.000000   \n",
       "mean     19.738805    19.922022    19.550067    19.742796    18.285583   \n",
       "std      16.135081    16.270788    16.014384    16.152156    15.806546   \n",
       "min       1.168750     1.176786     1.130357     1.152857     0.989862   \n",
       "25%       5.288928     5.407322     5.217857     5.324554     4.571749   \n",
       "50%      16.279465    16.379106    16.077679    16.231071    14.137815   \n",
       "75%      29.053125    29.233126    28.796250    29.001874    26.850676   \n",
       "max      74.959999    75.224998    74.370003    75.087502    74.096443   \n",
       "\n",
       "             Volume  \n",
       "count  3.774000e+03  \n",
       "mean   4.830986e+08  \n",
       "std    4.105372e+08  \n",
       "min    4.544800e+07  \n",
       "25%    1.628507e+08  \n",
       "50%    3.809400e+08  \n",
       "75%    6.733118e+08  \n",
       "max    3.372970e+09  "
      ]
     },
     "execution_count": 33,
     "metadata": {},
     "output_type": "execute_result"
    }
   ],
   "source": [
    "df.describe()"
   ]
  },
  {
   "cell_type": "code",
   "execution_count": 16,
   "id": "d11a68e6",
   "metadata": {},
   "outputs": [
    {
     "name": "stdout",
     "output_type": "stream",
     "text": [
      "<class 'pandas.core.frame.DataFrame'>\n",
      "RangeIndex: 3774 entries, 0 to 3773\n",
      "Data columns (total 7 columns):\n",
      " #   Column     Non-Null Count  Dtype  \n",
      "---  ------     --------------  -----  \n",
      " 0   Date       3774 non-null   object \n",
      " 1   Open       3774 non-null   float64\n",
      " 2   High       3774 non-null   float64\n",
      " 3   Low        3774 non-null   float64\n",
      " 4   Close      3774 non-null   float64\n",
      " 5   Adj Close  3774 non-null   float64\n",
      " 6   Volume     3774 non-null   int64  \n",
      "dtypes: float64(5), int64(1), object(1)\n",
      "memory usage: 206.5+ KB\n"
     ]
    }
   ],
   "source": [
    "df.info() #thông tin về bộ dữ liệu"
   ]
  },
  {
   "cell_type": "code",
   "execution_count": 18,
   "id": "0897f1c1",
   "metadata": {},
   "outputs": [
    {
     "name": "stdout",
     "output_type": "stream",
     "text": [
      "0        1.231429\n",
      "1        1.152857\n",
      "2        1.168929\n",
      "3        1.246429\n",
      "4        1.253571\n",
      "          ...    \n",
      "3769    73.412498\n",
      "3770    75.087502\n",
      "3771    74.357498\n",
      "3772    74.949997\n",
      "3773    74.597504\n",
      "Name: Close, Length: 3774, dtype: float64\n"
     ]
    },
    {
     "name": "stderr",
     "output_type": "stream",
     "text": [
      "<ipython-input-18-5f10a327aba9>:3: SettingWithCopyWarning: \n",
      "A value is trying to be set on a copy of a slice from a DataFrame\n",
      "\n",
      "See the caveats in the documentation: https://pandas.pydata.org/pandas-docs/stable/user_guide/indexing.html#returning-a-view-versus-a-copy\n",
      "  prices[np.isnan(prices)] = np.median(prices[~np.isnan(prices)])  # median: xác định trung vị . Nó sẽ trả về giá trị trung vị của dữ liệu số cho trước bằng cách tính trung bình của hai điểm giữa nếu cần. Nếu số data point là lẻ, nó sẽ trả về điểm giữa. Nếu số data point là chẵn, nó sẽ trả về trung bình của hai giá trị trung vị.\n"
     ]
    }
   ],
   "source": [
    "dates = list(range(0,int(len(df))))  #Đưa số lượng dòng vào thành list\n",
    "prices = df['Close'] #Lấy dữ liệu cột close\n",
    "prices[np.isnan(prices)] = np.median(prices[~np.isnan(prices)])  # median: xác định trung vị . Nó sẽ trả về giá trị trung vị của dữ liệu số cho trước bằng cách tính trung bình của hai điểm giữa nếu cần. Nếu số data point là lẻ, nó sẽ trả về điểm giữa. Nếu số data point là chẵn, nó sẽ trả về trung bình của hai giá trị trung vị.\n",
    "#  isnan: kiểm tra xem giá trị có phải là null / NaN hay không. Nó sẽ trả về True nếu giá trị là NaN / null.\n",
    "print(prices)"
   ]
  },
  {
   "cell_type": "code",
   "execution_count": 19,
   "id": "a19a7f34",
   "metadata": {},
   "outputs": [
    {
     "name": "stdout",
     "output_type": "stream",
     "text": [
      "Dataframe contains stock prices between 2005-01-10 00:00:00 2020-01-07 00:00:00\n",
      "Total days = 5475 days\n"
     ]
    }
   ],
   "source": [
    "df['Date']=pd.to_datetime(df['Date'])\n",
    "print(f'Dataframe contains stock prices between {df.Date.min()} {df.Date.max()}')\n",
    "print(f'Total days = {(df.Date.max() - df.Date.min()).days} days')"
   ]
  },
  {
   "cell_type": "code",
   "execution_count": 20,
   "id": "8937998d",
   "metadata": {},
   "outputs": [
    {
     "data": {
      "image/png": "[encoded data removed]",
      "text/plain": [
       "<Figure size 432x288 with 1 Axes>"
      ]
     },
     "metadata": {
      "needs_background": "light"
     },
     "output_type": "display_data"
    }
   ],
   "source": [
    "#Plot Original Data\n",
    "plt.plot(df['Close'], label='Close Price history')\n",
    "plt.title('Linear Regression | Time vs. Price (Original Data)')\n",
    "plt.legend() #Chú thích\n",
    "plt.grid()\n",
    "plt.xlabel('Date Integer')\n",
    "plt.show()"
   ]
  },
  {
   "cell_type": "code",
   "execution_count": 21,
   "id": "563fceb4",
   "metadata": {},
   "outputs": [],
   "source": [
    "#Convert to numpy array and reshape them\n",
    "dates = np.asanyarray(dates)\n",
    "prices = np.asanyarray(prices)\n",
    "dates = np.reshape(dates,(len(dates),1))\n",
    "prices = np.reshape(prices, (len(prices), 1))"
   ]
  },
  {
   "cell_type": "code",
   "execution_count": 22,
   "id": "098d8c76",
   "metadata": {},
   "outputs": [],
   "source": [
    "#Load Pickle File to get the previous saved model accuracy\n",
    "try:\n",
    "  pickle_in = open(\"prediction.pickle\", \"rb\")\n",
    "  reg = pickle.load(pickle_in)\n",
    "  xtrain, xtest, ytrain, ytest = train_test_split(dates, prices, train_size=0.8, test_size=0.2, random_state=0)\n",
    "  best = reg.score(ytrain, ytest)\n",
    "except:\n",
    "  pass"
   ]
  },
  {
   "cell_type": "code",
   "execution_count": 23,
   "id": "eee8d6ef",
   "metadata": {},
   "outputs": [
    {
     "name": "stdout",
     "output_type": "stream",
     "text": [
      "0.8859219792429176\n"
     ]
    }
   ],
   "source": [
    "#Get the highest accuracy model\n",
    "best = 0\n",
    "for _ in range(100):\n",
    "    xtrain, xtest, ytrain, ytest = train_test_split(dates, prices, train_size=0.8, test_size=0.2, random_state=0)\n",
    "    reg = LinearRegression().fit(xtrain, ytrain)\n",
    "    acc = reg.score(xtest, ytest)\n",
    "    if acc > best:\n",
    "        best = acc\n",
    "        #Save model to pickle format\n",
    "        with open('prediction.pickle','wb') as f:\n",
    "            pickle.dump(reg, f)  #nhận đối tượng và chuyển nó thành một chuỗi gọi là quá trình giầm (pickling) sau đó lưu vào tập tin f\n",
    "        print(acc)"
   ]
  },
  {
   "cell_type": "code",
   "execution_count": 51,
   "id": "01ca6b3d",
   "metadata": {},
   "outputs": [],
   "source": [
    "#Load linear regression model\n",
    "pickle_in = open(\"prediction.pickle\", \"rb\")\n",
    "reg = pickle.load(pickle_in) #Tạo lại đối tượng từ một chuỗi được gọi là vớt (unpickling). f: đối tượng tập tin đã được mở để đọc"
   ]
  },
  {
   "cell_type": "code",
   "execution_count": 52,
   "id": "b1b46278",
   "metadata": {},
   "outputs": [
    {
     "name": "stdout",
     "output_type": "stream",
     "text": [
      "Average Accuracy: 0.8853256788910905\n"
     ]
    }
   ],
   "source": [
    "#Get the average accuracy of the model\n",
    "mean = 0\n",
    "for i in range(10):\n",
    "  #Random Split Data\n",
    "  msk = np.random.rand(len(df)) < 0.8 #là một mảng có kích thước len (df) với các giá trị float được phân phối ngẫu nhiên và đồng đều trong phạm vi [0, 1]. <0,8 áp dụng phần tử so sánh khôn ngoan và lưu trữ kết quả tại chỗ. Do đó giá trị <0,8 trở thành Đúng và giá trị> = 0,8 trở thành Sai\n",
    "  xtest = dates[~msk] #~: là toán tử đảo ngược cho boolean\n",
    "  ytest = prices[~msk]\n",
    "  mean += reg.score(xtest,ytest)\n",
    "\n",
    "print(\"Average Accuracy:\", mean/10)"
   ]
  },
  {
   "cell_type": "code",
   "execution_count": 68,
   "id": "d1b99152",
   "metadata": {},
   "outputs": [
    {
     "data": {
      "image/png": "[encoded data removed]",
      "text/plain": [
       "<Figure size 432x288 with 1 Axes>"
      ]
     },
     "metadata": {
      "needs_background": "light"
     },
     "output_type": "display_data"
    }
   ],
   "source": [
    "#Plot Predicted VS Actual Data\n",
    "plt.plot(xtest, ytest, color='green',linewidth=1, label= 'Actual Price')                        #plotting the initial datapoints\n",
    "plt.plot(xtest, reg.predict(xtest), color='blue', linewidth=2, label = 'Predicted Price')       #plotting the line made by linear regression\n",
    "plt.title('Linear Regression | Time vs. Price ')\n",
    "plt.legend()\n",
    "plt.xlabel('Date Integer')\n",
    "plt.show()"
   ]
  },
  {
   "cell_type": "code",
   "execution_count": 14,
   "id": "90968394",
   "metadata": {},
   "outputs": [
    {
     "name": "stdout",
     "output_type": "stream",
     "text": [
      "Giá trị R:  0.8863857988958519\n"
     ]
    }
   ],
   "source": [
    "#Execute order 66\n",
    "from sklearn.metrics import r2_score\n",
    "print(\"Giá trị R: \", r2_score(ytest, reg.predict(xtest)))"
   ]
  }
 ],
 "metadata": {
  "kernelspec": {
   "display_name": "Python 3",
   "language": "python",
   "name": "python3"
  },
  "language_info": {
   "codemirror_mode": {
    "name": "ipython",
    "version": 3
   },
   "file_extension": ".py",
   "mimetype": "text/x-python",
   "name": "python",
   "nbconvert_exporter": "python",
   "pygments_lexer": "ipython3",
   "version": "3.6.4"
  }
 },
 "nbformat": 4,
 "nbformat_minor": 5
}
